{
 "cells": [
  {
   "cell_type": "code",
   "execution_count": 1,
   "metadata": {},
   "outputs": [],
   "source": [
    "import pandas as pd\n",
    "import openpyxl"
   ]
  },
  {
   "cell_type": "code",
   "execution_count": 3,
   "metadata": {},
   "outputs": [
    {
     "name": "stdout",
     "output_type": "stream",
     "text": [
      "<class 'pandas.core.frame.DataFrame'>\n",
      "RangeIndex: 2538 entries, 0 to 2537\n",
      "Data columns (total 10 columns):\n",
      " #   Column                              Non-Null Count  Dtype \n",
      "---  ------                              --------------  ----- \n",
      " 0   TSC_CCS_Type                        2538 non-null   object\n",
      " 1   TSC_CCS Code                        2538 non-null   object\n",
      " 2   Sector                              2538 non-null   object\n",
      " 3   TSC_CCS Category                    2538 non-null   object\n",
      " 4   TSC_CCS Title                       2538 non-null   object\n",
      " 5   TSC_CCS Description                 2538 non-null   object\n",
      " 6   Proficiency Level                   2538 non-null   int64 \n",
      " 7   Proficiency Description             2538 non-null   object\n",
      " 8   Knowledge / Ability Classification  2538 non-null   object\n",
      " 9   Knowledge / Ability Items           2538 non-null   object\n",
      "dtypes: int64(1), object(9)\n",
      "memory usage: 198.4+ KB\n"
     ]
    }
   ],
   "source": [
    "sfw_df = pd.read_excel(\"s3_bucket/s3_input/SFW_Human Resource_20250522_1910_input.xlsx\")\n",
    "sfw_df.info()"
   ]
  },
  {
   "cell_type": "code",
   "execution_count": 4,
   "metadata": {},
   "outputs": [
    {
     "name": "stdout",
     "output_type": "stream",
     "text": [
      "<class 'pandas.core.frame.DataFrame'>\n",
      "RangeIndex: 18166 entries, 0 to 18165\n",
      "Data columns (total 5 columns):\n",
      " #   Column                   Non-Null Count  Dtype \n",
      "---  ------                   --------------  ----- \n",
      " 0   Course Reference Number  18166 non-null  object\n",
      " 1   Skill Title              17906 non-null  object\n",
      " 2   Course Title             18166 non-null  object\n",
      " 3   About This Course        18154 non-null  object\n",
      " 4   What You'll Learn        18159 non-null  object\n",
      "dtypes: object(5)\n",
      "memory usage: 709.7+ KB\n"
     ]
    }
   ],
   "source": [
    "sector_df = pd.read_excel(\"s3_bucket/s3_input/HR_Human Resource_sector_course_listing_curated_20250522_1910_input.xlsx\")\n",
    "sector_df.info()"
   ]
  },
  {
   "cell_type": "code",
   "execution_count": 5,
   "metadata": {},
   "outputs": [
    {
     "data": {
      "text/plain": [
       "' \\nI have split this into 2 files (input_validaiton.py that contains the functions to validate the input) and the other is the same file containing the rest. in the future updates, please split them accordingly\\n\\nMore checks to add: \\n{sector} has to be capitalised like HR, FS. cant be lower case. \\nstakeholders might not understand SFW_{sector} so provide like eg SFW_HR in the error message. (make it more understanable to non technical audience\\n'"
      ]
     },
     "execution_count": 5,
     "metadata": {},
     "output_type": "execute_result"
    }
   ],
   "source": [
    "\"\"\" \n",
    "\n",
    "checks to edit for SFW file structure (sheet name) validation:\n",
    "{sector} has to be capitalised like HR, FS. cant be lower case. \n",
    "stakeholders might not understand SFW_{sector} so provide like eg SFW_HR in the error message. (make it more understanable to non technical audience\n",
    "\n",
    "\n",
    "sector file must have these columns and corresponding data types:\n",
    "<class 'pandas.core.frame.DataFrame'>\n",
    "RangeIndex: 18166 entries, 0 to 18165\n",
    "Data columns (total 5 columns):\n",
    " #   Column                   Non-Null Count  Dtype \n",
    "---  ------                   --------------  ----- \n",
    " 0   Course Reference Number  18166 non-null  object\n",
    " 1   Skill Title              17906 non-null  object\n",
    " 2   Course Title             18166 non-null  object\n",
    " 3   About This Course        18154 non-null  object\n",
    " 4   What You'll Learn        18159 non-null  object\n",
    "\n",
    "\n",
    "SFW File must have these columns and corresponding data types:\n",
    "<class 'pandas.core.frame.DataFrame'>\n",
    "RangeIndex: 2538 entries, 0 to 2537\n",
    "Data columns (total 10 columns):\n",
    " #   Column                              Non-Null Count  Dtype \n",
    "---  ------                              --------------  ----- \n",
    " 0   TSC_CCS_Type                        2538 non-null   object\n",
    " 1   TSC_CCS Code                        2538 non-null   object\n",
    " 2   Sector                              2538 non-null   object\n",
    " 3   TSC_CCS Category                    2538 non-null   object\n",
    " 4   TSC_CCS Title                       2538 non-null   object\n",
    " 5   TSC_CCS Description                 2538 non-null   object\n",
    " 6   Proficiency Level                   2538 non-null   int64 \n",
    " 7   Proficiency Description             2538 non-null   object\n",
    " 8   Knowledge / Ability Classification  2538 non-null   object\n",
    " 9   Knowledge / Ability Items           2538 non-null   object\n",
    "\n",
    "so in total, file and sheet naming conventions, and then structure and naming of columns in each file will be checked.\n",
    "\n",
    "\n",
    "\n",
    "\"\"\""
   ]
  },
  {
   "cell_type": "code",
   "execution_count": null,
   "metadata": {},
   "outputs": [],
   "source": []
  }
 ],
 "metadata": {
  "kernelspec": {
   "display_name": "venv",
   "language": "python",
   "name": "python3"
  },
  "language_info": {
   "codemirror_mode": {
    "name": "ipython",
    "version": 3
   },
   "file_extension": ".py",
   "mimetype": "text/x-python",
   "name": "python",
   "nbconvert_exporter": "python",
   "pygments_lexer": "ipython3",
   "version": "3.10.0"
  }
 },
 "nbformat": 4,
 "nbformat_minor": 2
}
