{
 "cells": [
  {
   "cell_type": "markdown",
   "id": "18b5a5f9",
   "metadata": {},
   "source": [
    "# Inspect Tagged Skills File\n",
    "\n",
    "This notebook allows you to inspect the \"All Tagged Skills\" parquet file from the s3_bucket/s3_output folder to analyze its structure, columns, and check for any duplicate column issues."
   ]
  },
  {
   "cell_type": "markdown",
   "id": "4d30d549",
   "metadata": {},
   "source": [
    "## 1. Import Required Libraries\n",
    "\n",
    "Import pandas for data manipulation and pathlib for file handling."
   ]
  },
  {
   "cell_type": "code",
   "execution_count": null,
   "id": "73160b9c",
   "metadata": {},
   "outputs": [],
   "source": [
    "import pandas as pd\n",
    "from pathlib import Path\n",
    "import os\n",
    "\n",
    "# Set display options for better viewing\n",
    "pd.set_option('display.max_columns', None)\n",
    "pd.set_option('display.width', None)\n",
    "pd.set_option('display.max_colwidth', 50)"
   ]
  },
  {
   "cell_type": "markdown",
   "id": "8ebf4526",
   "metadata": {},
   "source": [
    "## 2. Set File Path\n",
    "\n",
    "Define the path to the \"All Tagged Skills\" parquet file in the s3_output folder."
   ]
  },
  {
   "cell_type": "code",
   "execution_count": null,
   "id": "e0d47acc",
   "metadata": {},
   "outputs": [],
   "source": [
    "# Define the path to the tagged skills file\n",
    "file_path = \"s3_bucket/s3_output/All Tagged Skills for HR sector_output.parquet\"\n",
    "\n",
    "# Check if file exists\n",
    "if Path(file_path).exists():\n",
    "    print(f\"✅ File found: {file_path}\")\n",
    "    print(f\"📁 File size: {Path(file_path).stat().st_size / (1024*1024):.2f} MB\")\n",
    "else:\n",
    "    print(f\"❌ File not found: {file_path}\")\n",
    "    print(\"📂 Available files in s3_output:\")\n",
    "    output_dir = Path(\"s3_bucket/s3_output/\")\n",
    "    if output_dir.exists():\n",
    "        for file in output_dir.glob(\"*.parquet\"):\n",
    "            print(f\"   - {file.name}\")\n",
    "    else:\n",
    "        print(\"   Directory not found\")"
   ]
  }
 ],
 "metadata": {
  "language_info": {
   "name": "python"
  }
 },
 "nbformat": 4,
 "nbformat_minor": 5
}
