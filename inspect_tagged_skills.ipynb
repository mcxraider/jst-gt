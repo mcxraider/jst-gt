{
 "cells": [
  {
   "cell_type": "markdown",
   "id": "18b5a5f9",
   "metadata": {},
   "source": [
    "# Inspect Tagged Skills File\n",
    "\n",
    "This notebook allows you to inspect the \"All Tagged Skills\" parquet file from the s3_bucket/s3_output folder to analyze its structure, columns, and check for any duplicate column issues."
   ]
  },
  {
   "cell_type": "markdown",
   "id": "4d30d549",
   "metadata": {},
   "source": [
    "## 1. Import Required Libraries\n",
    "\n",
    "Import pandas for data manipulation and pathlib for file handling."
   ]
  },
  {
   "cell_type": "code",
   "execution_count": 1,
   "id": "73160b9c",
   "metadata": {},
   "outputs": [],
   "source": [
    "import pandas as pd\n",
    "from pathlib import Path\n",
    "import os\n",
    "\n",
    "# Set display options for better viewing\n",
    "pd.set_option('display.max_columns', None)\n",
    "pd.set_option('display.width', None)\n",
    "pd.set_option('display.max_colwidth', 50)"
   ]
  },
  {
   "cell_type": "markdown",
   "id": "8ebf4526",
   "metadata": {},
   "source": [
    "## 2. Set File Path\n",
    "\n",
    "Define the path to the \"All Tagged Skills\" parquet file in the s3_output folder."
   ]
  },
  {
   "cell_type": "code",
   "execution_count": 2,
   "id": "e0d47acc",
   "metadata": {},
   "outputs": [
    {
     "name": "stdout",
     "output_type": "stream",
     "text": [
      "✅ File found: s3_bucket/s3_output/All Tagged Skills for HR sector_output.parquet\n",
      "📁 File size: 0.04 MB\n"
     ]
    }
   ],
   "source": [
    "# Define the path to the tagged skills file\n",
    "file_path = \"s3_bucket/s3_output/All Tagged Skills for HR sector_output.parquet\"\n",
    "\n",
    "# Check if file exists\n",
    "if Path(file_path).exists():\n",
    "    print(f\"✅ File found: {file_path}\")\n",
    "    print(f\"📁 File size: {Path(file_path).stat().st_size / (1024*1024):.2f} MB\")\n",
    "else:\n",
    "    print(f\"❌ File not found: {file_path}\")\n",
    "    print(\"📂 Available files in s3_output:\")\n",
    "    output_dir = Path(\"s3_bucket/s3_output/\")\n",
    "    if output_dir.exists():\n",
    "        for file in output_dir.glob(\"*.parquet\"):\n",
    "            print(f\"   - {file.name}\")\n",
    "    else:\n",
    "        print(\"   Directory not found\")"
   ]
  },
  {
   "cell_type": "markdown",
   "id": "220ed47c",
   "metadata": {},
   "source": [
    "## 3. Load Tagged Skills File\n",
    "\n",
    "Load the parquet file into a pandas DataFrame and display basic information."
   ]
  },
  {
   "cell_type": "code",
   "execution_count": 3,
   "id": "e29869bb",
   "metadata": {},
   "outputs": [
    {
     "name": "stdout",
     "output_type": "stream",
     "text": [
      "🎉 File loaded successfully!\n",
      "📊 DataFrame shape: (33, 10)\n",
      "📏 Rows: 33, Columns: 10\n",
      "💾 Memory usage: 0.10 MB\n"
     ]
    }
   ],
   "source": [
    "try:\n",
    "    # Load the parquet file\n",
    "    df = pd.read_parquet(file_path, engine=\"auto\")\n",
    "\n",
    "    print(\"🎉 File loaded successfully!\")\n",
    "    print(f\"📊 DataFrame shape: {df.shape}\")\n",
    "    print(f\"📏 Rows: {df.shape[0]:,}, Columns: {df.shape[1]}\")\n",
    "    print(f\"💾 Memory usage: {df.memory_usage(deep=True).sum() / (1024*1024):.2f} MB\")\n",
    "\n",
    "except Exception as e:\n",
    "    print(f\"❌ Error loading file: {e}\")\n",
    "    df = None"
   ]
  },
  {
   "cell_type": "markdown",
   "id": "9a423ac7",
   "metadata": {},
   "source": [
    "## 4. Column Analysis\n",
    "\n",
    "Check for duplicate columns and analyze the structure of the DataFrame."
   ]
  },
  {
   "cell_type": "code",
   "execution_count": 4,
   "id": "b8ac90a7",
   "metadata": {},
   "outputs": [
    {
     "name": "stdout",
     "output_type": "stream",
     "text": [
      "📋 COLUMN ANALYSIS\n",
      "==================================================\n",
      "📝 All columns (10):\n",
      "    1. Course Reference Number\n",
      "    2. Course Title\n",
      "    3. Skill Title\n",
      "    4. About This Course\n",
      "    5. What You'll Learn\n",
      "    6. skill_lower\n",
      "    7. Sector Relevance\n",
      "    8. proficiency_level\n",
      "    9. reason\n",
      "   10. confidence\n",
      "\n",
      "🔍 DUPLICATE COLUMN CHECK\n",
      "==================================================\n",
      "✅ No duplicate columns found\n",
      "\n",
      "📊 BASIC INFO\n",
      "==================================================\n",
      "Data types:\n",
      "Course Reference Number    object\n",
      "Course Title               object\n",
      "Skill Title                object\n",
      "About This Course          object\n",
      "What You'll Learn          object\n",
      "skill_lower                object\n",
      "Sector Relevance           object\n",
      "proficiency_level           int64\n",
      "reason                     object\n",
      "confidence                 object\n",
      "dtype: object\n"
     ]
    }
   ],
   "source": [
    "if df is not None:\n",
    "    print(\"📋 COLUMN ANALYSIS\")\n",
    "    print(\"=\" * 50)\n",
    "\n",
    "    # Get column names\n",
    "    columns = list(df.columns)\n",
    "    print(f\"📝 All columns ({len(columns)}):\")\n",
    "    for i, col in enumerate(columns, 1):\n",
    "        print(f\"   {i:2d}. {col}\")\n",
    "\n",
    "    print(\"\\n🔍 DUPLICATE COLUMN CHECK\")\n",
    "    print(\"=\" * 50)\n",
    "\n",
    "    # Check for duplicate columns\n",
    "    duplicates = [col for col in columns if columns.count(col) > 1]\n",
    "\n",
    "    if duplicates:\n",
    "        print(f\"❌ Duplicate columns found: {set(duplicates)}\")\n",
    "        for dup in set(duplicates):\n",
    "            indices = [i for i, col in enumerate(columns) if col == dup]\n",
    "            print(f\"   '{dup}' appears at positions: {indices}\")\n",
    "    else:\n",
    "        print(\"✅ No duplicate columns found\")\n",
    "\n",
    "    print(f\"\\n📊 BASIC INFO\")\n",
    "    print(\"=\" * 50)\n",
    "    print(f\"Data types:\")\n",
    "    print(df.dtypes)\n",
    "else:\n",
    "    print(\"❌ Cannot analyze columns - DataFrame not loaded\")"
   ]
  },
  {
   "cell_type": "markdown",
   "id": "8969b7fd",
   "metadata": {},
   "source": [
    "## 5. Display Head of DataFrame\n",
    "\n",
    "Show the first few rows of the tagged skills data for inspection."
   ]
  },
  {
   "cell_type": "code",
   "execution_count": 5,
   "id": "2cdb0902",
   "metadata": {},
   "outputs": [
    {
     "name": "stdout",
     "output_type": "stream",
     "text": [
      "📋 FIRST 5 ROWS\n",
      "================================================================================\n"
     ]
    },
    {
     "data": {
      "application/vnd.microsoft.datawrangler.viewer.v0+json": {
       "columns": [
        {
         "name": "index",
         "rawType": "int64",
         "type": "integer"
        },
        {
         "name": "Course Reference Number",
         "rawType": "object",
         "type": "string"
        },
        {
         "name": "Course Title",
         "rawType": "object",
         "type": "string"
        },
        {
         "name": "Skill Title",
         "rawType": "object",
         "type": "string"
        },
        {
         "name": "About This Course",
         "rawType": "object",
         "type": "string"
        },
        {
         "name": "What You'll Learn",
         "rawType": "object",
         "type": "string"
        },
        {
         "name": "skill_lower",
         "rawType": "object",
         "type": "string"
        },
        {
         "name": "Sector Relevance",
         "rawType": "object",
         "type": "string"
        },
        {
         "name": "proficiency_level",
         "rawType": "int64",
         "type": "integer"
        },
        {
         "name": "reason",
         "rawType": "object",
         "type": "string"
        },
        {
         "name": "confidence",
         "rawType": "object",
         "type": "string"
        }
       ],
       "ref": "e9ee8cce-f796-4b46-9338-0cc8e2230dd2",
       "rows": [
        [
         "0",
         "TGS-2023038550",
         "(eCornell) Applied Predictive Analytics in HR",
         "Human Resource Analytics And Insights",
         "Predictive analytics help organizations anticipate and plan appropriately for the future. In this course, learners will apply rigorous measurement and analysis techniques to common HR areas involving hiring top talent, evaluating workforce diversity, engaging the workforce, and managing retention. Through activities and assignments, learners will explore foundational frameworks that are relevant to analyses ranging from basic descriptions to more advanced predictive models that involve machine learning, artificial intelligence, or big data. As learners examine key inputs and data sources, they will use data to predict patterns and trends in areas such as diversity, engagement, and performance. Ultimately, students will use metrics and analytics to assess the current talent landscape of an organization and outline recommendations as they create a presentation for senior leadership. This course assumes a basic comfort level in working with HR data and analysis. It is designed to equip students with the concepts, tools, and language specific to key areas within HR analytics. The course provides examples using Excel. Other data analytics software will not be presented, although the information shared is transferable for those fluent in other programs. The course is provided by eCornell in partnership with Genashtim.",
         "Diagnose your workforce using an HR analytics framework.\nExplore methods to measure, analyze, and interpret data for key areas of your workforce including hiring, engagement, diversity, and turnover/retention.\nOutline issues uncovered, communicate your findings, and create recommendations for a non-technical audience .",
         "human resource analytics and insights",
         "In Sector",
         "4",
         "Learning activities demonstrate skill application at appropriate level.",
         "medium"
        ],
        [
         "1",
         "TGS-2023038405",
         "(eCornell) Autism at Work",
         "Human Resource Policies And Legislation Framework Management",
         "In this course, you will explore the emerging initiatives in technology to actively recruit and hire individuals on the Autism Spectrum. The course will encourage you to assess implications for human resource policies and practices in this area. You will then look into the opportunities and challenges encountered across the employment process in designing and implementing these kinds of initiatives, and evaluate the importance of creating a workplace culture that embraces a diverse workforce, including individuals with disabilities, and those who are neuro-atypical The course is provided by eCornell in partnership with Genashtim.",
         "Develop a business case for making neurodiversity part of your organization's overall employment strategy\nRecognize the challenges and opportunities associated with the hiring of neurodiverse talent\nAssess technology options to successfully recruit, interview, and onboard needed talent that includes neurodiverse people\nIdentify supervisors and other leaders within your organization who are flexible, willing, and motivated to work with neurodiverse staff\nAddress perceptions among management and staff to improve inclusivity in your workplace\nImplement a process that fosters awareness, acceptance, and appreciation of neurodiverse employees among staff\nUse metrics and analytics to track, assess, and quantify your organization's progress",
         "human resource policies and legislation framework management",
         "In Sector",
         "4",
         "Course prerequisites and outcomes match proficiency expectations.",
         "medium"
        ],
        [
         "2",
         "TGS-2023038548",
         "(eCornell) Essentials of HR Analytics",
         "Human Resource Analytics And Insights",
         "Drawing on his experience and research, John Hausknecht, Professor of HR Studies at Cornell's ILR School, guides students through key steps in identifying insights from HR data and analysis. Students will review HR data, identify key questions that drive the analytical process, and explore basic calculations for correlation and regression. Taking this a step further, students will mindfully interpret findings, looking beyond data as they take a holistic view of the situations they encounter. Through a course project, students will compose a presentation to visualize essential HR data and communicate findings to key decision makers. The course is provided by eCornell in partnership with Genashtim.",
         "Frame questions and identify appropriate data sources.\nConduct basic and intermediate analyses of HR data.\nDraw appropriate interpretations from HR output.\nIdentify actionable insights and recommendations.\nUse data visualization to make the case for change.",
         "human resource analytics and insights",
         "In Sector",
         "2",
         "Learning activities demonstrate skill application at appropriate level.",
         "low"
        ],
        [
         "3",
         "TGS-2023038531",
         "(eCornell) Getting Results Through Talent Management",
         "Learning And Development Strategy",
         "Cornell University Professor Brad Bell offers a learning experience that challenges students to dig deeper into understanding their organization's key talent management challenges and uncovers solutions that can be used to overcome these challenges. This course adopts a systems view of talent management in order to demonstrate that various talent practices and processes need to be aligned to create effective solutions. It also examines current trends and cutting-edge thinking in the talent management field. The course is provided by eCornell in partnership with Genashtim.",
         "How to assess an organization's approach to managing talent and its alignment with  overall  business strategy.\nWays to select talent assessment and identification tools and processes that align with your organization's talent philosophy.\nDevise strategies for developing, engaging, and retaining key talent.\nTechniques for fostering a culture that supports talent management efforts and delivers on an organization's employment brand.\nHow to measure the effectiveness of individual talent programs and monitor the health of an organization's talent management system.",
         "learning and development strategy",
         "In Sector",
         "4",
         "Learning activities demonstrate skill application at appropriate level.",
         "high"
        ],
        [
         "4",
         "TGS-2023038549",
         "(eCornell) Strategic Talent Analytics",
         "Human Resource Analytics And Insights",
         "This course focuses on building analytical acumen and taking a strategic view of talent analytics. Using a framework presented in this course, students will examine outcomes and drivers throughout an organization to assess strategic needs. As they complete activities throughout the course, they will also fine tune their evaluative, presentation, and communication skills using critical thinking coupled with analytical best practices shared by Professor Hausknecht. This course is designed for HR professionals who want to build their organizationï¿½s HR analytics capabilities, derive meaning from metrics and results, and tell persuasive stories involving HR and organizational data. With these skills, students will have a stronger voice in using talent analytics to persuade others toward actions that best align with organizational goals. The course is provided by eCornell in partnership with Genashtim.",
         "Align HR analytics to support larger organizational needs, including linkage of HR data to business outcomes.\nAssess and enhance your organization's maturity around HR analytics.\nEvaluate findings and determine the most critical workforce implications.\nPrepare and deliver persuasive data-based stories.",
         "human resource analytics and insights",
         "In Sector",
         "4",
         "Learning activities demonstrate skill application at appropriate level.",
         "medium"
        ]
       ],
       "shape": {
        "columns": 10,
        "rows": 5
       }
      },
      "text/html": [
       "<div>\n",
       "<style scoped>\n",
       "    .dataframe tbody tr th:only-of-type {\n",
       "        vertical-align: middle;\n",
       "    }\n",
       "\n",
       "    .dataframe tbody tr th {\n",
       "        vertical-align: top;\n",
       "    }\n",
       "\n",
       "    .dataframe thead th {\n",
       "        text-align: right;\n",
       "    }\n",
       "</style>\n",
       "<table border=\"1\" class=\"dataframe\">\n",
       "  <thead>\n",
       "    <tr style=\"text-align: right;\">\n",
       "      <th></th>\n",
       "      <th>Course Reference Number</th>\n",
       "      <th>Course Title</th>\n",
       "      <th>Skill Title</th>\n",
       "      <th>About This Course</th>\n",
       "      <th>What You'll Learn</th>\n",
       "      <th>skill_lower</th>\n",
       "      <th>Sector Relevance</th>\n",
       "      <th>proficiency_level</th>\n",
       "      <th>reason</th>\n",
       "      <th>confidence</th>\n",
       "    </tr>\n",
       "  </thead>\n",
       "  <tbody>\n",
       "    <tr>\n",
       "      <th>0</th>\n",
       "      <td>TGS-2023038550</td>\n",
       "      <td>(eCornell) Applied Predictive Analytics in HR</td>\n",
       "      <td>Human Resource Analytics And Insights</td>\n",
       "      <td>Predictive analytics help organizations antici...</td>\n",
       "      <td>Diagnose your workforce using an HR analytics ...</td>\n",
       "      <td>human resource analytics and insights</td>\n",
       "      <td>In Sector</td>\n",
       "      <td>4</td>\n",
       "      <td>Learning activities demonstrate skill applicat...</td>\n",
       "      <td>medium</td>\n",
       "    </tr>\n",
       "    <tr>\n",
       "      <th>1</th>\n",
       "      <td>TGS-2023038405</td>\n",
       "      <td>(eCornell) Autism at Work</td>\n",
       "      <td>Human Resource Policies And Legislation Framew...</td>\n",
       "      <td>In this course, you will explore the emerging ...</td>\n",
       "      <td>Develop a business case for making neurodivers...</td>\n",
       "      <td>human resource policies and legislation framew...</td>\n",
       "      <td>In Sector</td>\n",
       "      <td>4</td>\n",
       "      <td>Course prerequisites and outcomes match profic...</td>\n",
       "      <td>medium</td>\n",
       "    </tr>\n",
       "    <tr>\n",
       "      <th>2</th>\n",
       "      <td>TGS-2023038548</td>\n",
       "      <td>(eCornell) Essentials of HR Analytics</td>\n",
       "      <td>Human Resource Analytics And Insights</td>\n",
       "      <td>Drawing on his experience and research, John H...</td>\n",
       "      <td>Frame questions and identify appropriate data ...</td>\n",
       "      <td>human resource analytics and insights</td>\n",
       "      <td>In Sector</td>\n",
       "      <td>2</td>\n",
       "      <td>Learning activities demonstrate skill applicat...</td>\n",
       "      <td>low</td>\n",
       "    </tr>\n",
       "    <tr>\n",
       "      <th>3</th>\n",
       "      <td>TGS-2023038531</td>\n",
       "      <td>(eCornell) Getting Results Through Talent Mana...</td>\n",
       "      <td>Learning And Development Strategy</td>\n",
       "      <td>Cornell University Professor Brad Bell offers ...</td>\n",
       "      <td>How to assess an organization's approach to ma...</td>\n",
       "      <td>learning and development strategy</td>\n",
       "      <td>In Sector</td>\n",
       "      <td>4</td>\n",
       "      <td>Learning activities demonstrate skill applicat...</td>\n",
       "      <td>high</td>\n",
       "    </tr>\n",
       "    <tr>\n",
       "      <th>4</th>\n",
       "      <td>TGS-2023038549</td>\n",
       "      <td>(eCornell) Strategic Talent Analytics</td>\n",
       "      <td>Human Resource Analytics And Insights</td>\n",
       "      <td>This course focuses on building analytical acu...</td>\n",
       "      <td>Align HR analytics to support larger organizat...</td>\n",
       "      <td>human resource analytics and insights</td>\n",
       "      <td>In Sector</td>\n",
       "      <td>4</td>\n",
       "      <td>Learning activities demonstrate skill applicat...</td>\n",
       "      <td>medium</td>\n",
       "    </tr>\n",
       "  </tbody>\n",
       "</table>\n",
       "</div>"
      ],
      "text/plain": [
       "  Course Reference Number                                       Course Title  \\\n",
       "0          TGS-2023038550      (eCornell) Applied Predictive Analytics in HR   \n",
       "1          TGS-2023038405                          (eCornell) Autism at Work   \n",
       "2          TGS-2023038548              (eCornell) Essentials of HR Analytics   \n",
       "3          TGS-2023038531  (eCornell) Getting Results Through Talent Mana...   \n",
       "4          TGS-2023038549              (eCornell) Strategic Talent Analytics   \n",
       "\n",
       "                                         Skill Title  \\\n",
       "0              Human Resource Analytics And Insights   \n",
       "1  Human Resource Policies And Legislation Framew...   \n",
       "2              Human Resource Analytics And Insights   \n",
       "3                  Learning And Development Strategy   \n",
       "4              Human Resource Analytics And Insights   \n",
       "\n",
       "                                   About This Course  \\\n",
       "0  Predictive analytics help organizations antici...   \n",
       "1  In this course, you will explore the emerging ...   \n",
       "2  Drawing on his experience and research, John H...   \n",
       "3  Cornell University Professor Brad Bell offers ...   \n",
       "4  This course focuses on building analytical acu...   \n",
       "\n",
       "                                   What You'll Learn  \\\n",
       "0  Diagnose your workforce using an HR analytics ...   \n",
       "1  Develop a business case for making neurodivers...   \n",
       "2  Frame questions and identify appropriate data ...   \n",
       "3  How to assess an organization's approach to ma...   \n",
       "4  Align HR analytics to support larger organizat...   \n",
       "\n",
       "                                         skill_lower Sector Relevance  \\\n",
       "0              human resource analytics and insights        In Sector   \n",
       "1  human resource policies and legislation framew...        In Sector   \n",
       "2              human resource analytics and insights        In Sector   \n",
       "3                  learning and development strategy        In Sector   \n",
       "4              human resource analytics and insights        In Sector   \n",
       "\n",
       "   proficiency_level                                             reason  \\\n",
       "0                  4  Learning activities demonstrate skill applicat...   \n",
       "1                  4  Course prerequisites and outcomes match profic...   \n",
       "2                  2  Learning activities demonstrate skill applicat...   \n",
       "3                  4  Learning activities demonstrate skill applicat...   \n",
       "4                  4  Learning activities demonstrate skill applicat...   \n",
       "\n",
       "  confidence  \n",
       "0     medium  \n",
       "1     medium  \n",
       "2        low  \n",
       "3       high  \n",
       "4     medium  "
      ]
     },
     "metadata": {},
     "output_type": "display_data"
    },
    {
     "name": "stdout",
     "output_type": "stream",
     "text": [
      "\n",
      "📊 SUMMARY STATISTICS\n",
      "================================================================================\n",
      "\n",
      "🔢 Value counts for 'Skill Title':\n",
      "Skill Title\n",
      "Human Resource Analytics And Insights                           9\n",
      "Stakeholder Engagement And Management                           5\n",
      "Human Resource Policies And Legislation Framework Management    2\n",
      "Learning And Development Strategy                               2\n",
      "Learning And Development Programme Management                   2\n",
      "Name: count, dtype: int64\n",
      "\n",
      "🔢 Value counts for 'proficiency_level':\n",
      "proficiency_level\n",
      "4    13\n",
      "3    12\n",
      "2     4\n",
      "5     4\n",
      "Name: count, dtype: int64\n",
      "\n",
      "🔢 Value counts for 'Sector Relevance':\n",
      "Sector Relevance\n",
      "In Sector    33\n",
      "Name: count, dtype: int64\n",
      "\n",
      "📈 NULL VALUES\n",
      "==================================================\n",
      "Columns with null values:\n",
      "   Skill Title: 9 (27.3%)\n"
     ]
    }
   ],
   "source": [
    "if df is not None:\n",
    "    print(\"📋 FIRST 5 ROWS\")\n",
    "    print(\"=\" * 80)\n",
    "    display(df.head())\n",
    "\n",
    "    print(f\"\\n📊 SUMMARY STATISTICS\")\n",
    "    print(\"=\" * 80)\n",
    "\n",
    "    # Show value counts for key columns if they exist\n",
    "    key_columns = ['Skill Title', 'proficiency_level', 'Sector Relevance']\n",
    "\n",
    "    for col in key_columns:\n",
    "        if col in df.columns:\n",
    "            print(f\"\\n🔢 Value counts for '{col}':\")\n",
    "            print(df[col].value_counts().head())\n",
    "\n",
    "    print(f\"\\n📈 NULL VALUES\")\n",
    "    print(\"=\" * 50)\n",
    "    null_counts = df.isnull().sum()\n",
    "    if null_counts.sum() > 0:\n",
    "        print(\"Columns with null values:\")\n",
    "        for col, count in null_counts[null_counts > 0].items():\n",
    "            print(f\"   {col}: {count} ({count/len(df)*100:.1f}%)\")\n",
    "    else:\n",
    "        print(\"✅ No null values found\")\n",
    "\n",
    "else:\n",
    "    print(\"❌ Cannot display head - DataFrame not loaded\")"
   ]
  },
  {
   "cell_type": "markdown",
   "id": "7a22bfe5",
   "metadata": {},
   "source": [
    "## 6. Fix Duplicate Columns (If Any)\n",
    "\n",
    "If duplicate columns are found, this section will help fix them."
   ]
  },
  {
   "cell_type": "code",
   "execution_count": null,
   "id": "6e835a79",
   "metadata": {},
   "outputs": [],
   "source": [
    "if df is not None:\n",
    "    # Check if there are duplicate columns\n",
    "    columns = list(df.columns)\n",
    "    duplicates = [col for col in columns if columns.count(col) > 1]\n",
    "\n",
    "    if duplicates:\n",
    "        print(\"🔧 FIXING DUPLICATE COLUMNS\")\n",
    "        print(\"=\" * 50)\n",
    "        print(f\"Before fix - Total columns: {len(df.columns)}\")\n",
    "        print(f\"Duplicate columns: {set(duplicates)}\")\n",
    "\n",
    "        # Remove duplicate columns (keep first occurrence)\n",
    "        df_fixed = df.loc[:, ~df.columns.duplicated()]\n",
    "\n",
    "        print(f\"After fix - Total columns: {len(df_fixed.columns)}\")\n",
    "        print(\"✅ Duplicate columns removed\")\n",
    "\n",
    "        # Save the fixed version\n",
    "        output_path = \"s3_bucket/s3_output/All Tagged Skills for HR sector_output_FIXED.parquet\"\n",
    "        df_fixed.to_parquet(output_path, index=False, engine=\"auto\")\n",
    "        print(f\"💾 Fixed file saved as: {output_path}\")\n",
    "\n",
    "        # Display the fixed DataFrame head\n",
    "        print(\"\\n📋 FIXED DATAFRAME HEAD\")\n",
    "        print(\"=\" * 80)\n",
    "        display(df_fixed.head())\n",
    "\n",
    "    else:\n",
    "        print(\"✅ No duplicate columns to fix\")\n",
    "else:\n",
    "    print(\"❌ Cannot fix columns - DataFrame not loaded\")"
   ]
  }
 ],
 "metadata": {
  "kernelspec": {
   "display_name": "venv",
   "language": "python",
   "name": "python3"
  },
  "language_info": {
   "codemirror_mode": {
    "name": "ipython",
    "version": 3
   },
   "file_extension": ".py",
   "mimetype": "text/x-python",
   "name": "python",
   "nbconvert_exporter": "python",
   "pygments_lexer": "ipython3",
   "version": "3.10.0"
  }
 },
 "nbformat": 4,
 "nbformat_minor": 5
}
