{
 "cells": [
  {
   "cell_type": "code",
   "execution_count": 2,
   "id": "7c9a6d73-034a-420a-9360-a43843c0a945",
   "metadata": {},
   "outputs": [],
   "source": [
    "import pandas as pd\n",
    "import numpy as np\n",
    "import re\n",
    "from ast import *\n",
    "import openai\n",
    "import json\n",
    "import pickle as pkl\n",
    "import hashlib\n",
    "from utils import *\n",
    "import threading\n",
    "import concurrent.futures\n",
    "from config import api_key\n",
    "from skill_rac_chart import skill_proficiency_level_details"
   ]
  },
  {
   "cell_type": "markdown",
   "id": "d5b7f18e-8e70-4860-8176-5cdcfa842519",
   "metadata": {
    "jp-MarkdownHeadingCollapsed": true,
    "tags": []
   },
   "source": [
    "# LLM Configuration"
   ]
  },
  {
   "cell_type": "code",
   "execution_count": 3,
   "id": "cad74433-b27a-4195-bfd3-1c62aa48ecad",
   "metadata": {
    "tags": []
   },
   "outputs": [],
   "source": [
    "def get_gpt_completion(sys_msg, model=\"gpt-4o\", temperature=0.1):\n",
    "    client = openai.OpenAI(api_key=api_key,base_url=\"https://ai-api.analytics.gov.sg\")\n",
    "    response = client.chat.completions.create(\n",
    "        model=model, \n",
    "        messages = sys_msg,\n",
    "        response_format={\"type\": \"json_object\"},\n",
    "        seed=6800,\n",
    "        temperature=temperature\n",
    "    )\n",
    "    completion_output = literal_eval(response.choices[0].message.content)\n",
    "    return completion_output"
   ]
  },
  {
   "cell_type": "code",
   "execution_count": 4,
   "id": "f63b3234-d10b-46d4-aedc-7ec3f9fa3d32",
   "metadata": {
    "tags": []
   },
   "outputs": [
    {
     "data": {
      "text/plain": [
       "{'sky_colour': 'blue'}"
      ]
     },
     "execution_count": 4,
     "metadata": {},
     "output_type": "execute_result"
    }
   ],
   "source": [
    "sys_msg = [{\n",
    "    \"role\": \"user\",\n",
    "    \"content\":\"What is the colour of the sky? Reply me in JSON format {'sky_colour': 'colour'}.\"}]\n",
    "test_result = get_gpt_completion(sys_msg=sys_msg)\n",
    "test_result"
   ]
  },
  {
   "cell_type": "markdown",
   "id": "94e484bf-42a3-4a01-981b-ba9b36904691",
   "metadata": {
    "jp-MarkdownHeadingCollapsed": true,
    "tags": []
   },
   "source": [
    "# Load in Data"
   ]
  },
  {
   "cell_type": "code",
   "execution_count": 5,
   "id": "f0a6f77f-dabc-444a-932c-e64c00ccc953",
   "metadata": {
    "tags": []
   },
   "outputs": [],
   "source": [
    "round_2_output_path = \"../input_data/course_skill_pl_arc_chart_full_28062024_IDD1.csv\"\n",
    "sfw_raw_data_path = \"../input_data/Copy of Sfw_dataset-2023-10 (002).xlsx\"\n",
    "sfw_raw_data_sheet = \"TSC_CCS_K&A\"\n",
    "target_sector = \"Precision Engineering\"\n",
    "\n",
    "checkpoint_file_path = \"./checkpoint_files/correction_checkpoint_02072024.txt\"\n",
    "output_file_path = \"./corrected_course_skill_pl_full_02072024.csv\""
   ]
  },
  {
   "cell_type": "code",
   "execution_count": 6,
   "id": "bcbff555-c239-4395-92d5-de26de4e1e86",
   "metadata": {
    "tags": []
   },
   "outputs": [],
   "source": [
    "data_df = pd.read_csv(round_2_output_path)\n",
    "sfw_raw_data = pd.read_excel(sfw_raw_data_path, sheet_name=sfw_raw_data_sheet)\n",
    "pe_knowledge_df = sfw_raw_data[sfw_raw_data[\"Sector\"] == target_sector]\n",
    "pe_knowledge_df = pe_knowledge_df.reset_index(drop=True)"
   ]
  },
  {
   "cell_type": "code",
   "execution_count": 8,
   "id": "afdd6354-18a0-4384-bc66-97f21fca0dea",
   "metadata": {
    "tags": []
   },
   "outputs": [],
   "source": [
    "pe_kb = pe_knowledge_df.groupby(['TSC_CCS Title', 'Proficiency Level'], as_index=False).agg({'Knowledge / Ability Items': ', '.join})"
   ]
  },
  {
   "cell_type": "code",
   "execution_count": 9,
   "id": "905c981e-88ef-46a8-b4b8-55a78388b14d",
   "metadata": {
    "tags": []
   },
   "outputs": [],
   "source": [
    "data_df[\"skill_pl_text\"] = data_df['TSC Title/Skill'] + \"-\" + [str(x) for x in data_df[\"proficiency_level\"]]\n",
    "data_df[\"skill_pl_id\"] = [generate_hash(x) for x in data_df[\"skill_pl_text\"]]\n",
    "\n",
    "data_df[\"course_text\"] = data_df['Course Title'] + \" |: \" + data_df[\"About This Course\"] + \" | \" + data_df[\"What You'll Learn\"]\n",
    "data_df['unique_text'] = data_df['course_text'] + data_df['TSC Title/Skill']\n",
    "data_df['unique_id'] = data_df['unique_text'].apply(lambda x: generate_hash(x))\n",
    "\n",
    "pe_kb[\"skill_pl_text\"] = pe_kb[\"TSC_CCS Title\"] + \"-\" + [str(x) for x in pe_kb[\"Proficiency Level\"]]\n",
    "pe_kb[\"skill_pl_id\"] = [generate_hash(x) for x in pe_kb[\"skill_pl_text\"]]"
   ]
  },
  {
   "cell_type": "code",
   "execution_count": 11,
   "id": "3ff19c62-d413-4996-bec8-c4533c81c75f",
   "metadata": {
    "tags": []
   },
   "outputs": [],
   "source": [
    "to_check_skillpl_id = data_df.skill_pl_id.unique()\n",
    "reference_skillpl_id = pe_kb.skill_pl_id.unique()"
   ]
  },
  {
   "cell_type": "code",
   "execution_count": 14,
   "id": "98de8bec-f3f4-498a-a1e2-1e6c2279fdcc",
   "metadata": {
    "tags": []
   },
   "outputs": [],
   "source": [
    "hallucinated_skillpl_id = [x for x in to_check_skillpl_id if x not in reference_skillpl_id]"
   ]
  },
  {
   "cell_type": "code",
   "execution_count": 15,
   "id": "eff519bb-fa35-4720-b877-80af27ef5318",
   "metadata": {
    "tags": []
   },
   "outputs": [
    {
     "data": {
      "text/plain": [
       "(21, 292, 250)"
      ]
     },
     "execution_count": 15,
     "metadata": {},
     "output_type": "execute_result"
    }
   ],
   "source": [
    "len(hallucinated_skillpl_id), len(reference_skillpl_id), len(to_check_skillpl_id)"
   ]
  },
  {
   "cell_type": "code",
   "execution_count": 16,
   "id": "e0e6679c-189a-4c66-b5f0-f2aa721b2999",
   "metadata": {
    "tags": []
   },
   "outputs": [],
   "source": [
    "affected_df = data_df[data_df[\"skill_pl_id\"].isin(hallucinated_skillpl_id)]"
   ]
  },
  {
   "cell_type": "code",
   "execution_count": 17,
   "id": "60e01827-f5d3-4b6f-85a2-2f72053ab6c3",
   "metadata": {
    "tags": []
   },
   "outputs": [
    {
     "data": {
      "text/plain": [
       "(49, 22)"
      ]
     },
     "execution_count": 17,
     "metadata": {},
     "output_type": "execute_result"
    }
   ],
   "source": [
    "affected_df.shape"
   ]
  },
  {
   "cell_type": "code",
   "execution_count": 18,
   "id": "11c5fa1b-319f-471f-a3f6-62ecc407fedc",
   "metadata": {
    "tags": []
   },
   "outputs": [
    {
     "data": {
      "text/html": [
       "<div>\n",
       "<style scoped>\n",
       "    .dataframe tbody tr th:only-of-type {\n",
       "        vertical-align: middle;\n",
       "    }\n",
       "\n",
       "    .dataframe tbody tr th {\n",
       "        vertical-align: top;\n",
       "    }\n",
       "\n",
       "    .dataframe thead th {\n",
       "        text-align: right;\n",
       "    }\n",
       "</style>\n",
       "<table border=\"1\" class=\"dataframe\">\n",
       "  <thead>\n",
       "    <tr style=\"text-align: right;\">\n",
       "      <th></th>\n",
       "      <th>Course Title</th>\n",
       "      <th>Course Reference Number</th>\n",
       "      <th>TP Name</th>\n",
       "      <th>TP UEN</th>\n",
       "      <th>Programme Type</th>\n",
       "      <th>About This Course</th>\n",
       "      <th>What You'll Learn</th>\n",
       "      <th>TSC Category</th>\n",
       "      <th>TSC Title/Skill</th>\n",
       "      <th>Training Provider</th>\n",
       "      <th>...</th>\n",
       "      <th>proficiency_level</th>\n",
       "      <th>reason</th>\n",
       "      <th>confidence</th>\n",
       "      <th>method (sfw / rac)</th>\n",
       "      <th>Comments</th>\n",
       "      <th>skill_pl_text</th>\n",
       "      <th>skill_pl_id</th>\n",
       "      <th>course_text</th>\n",
       "      <th>unique_text</th>\n",
       "      <th>unique_id</th>\n",
       "    </tr>\n",
       "  </thead>\n",
       "  <tbody>\n",
       "    <tr>\n",
       "      <th>141</th>\n",
       "      <td>(SCTP) Ã¢â‚¬â€œ Future-Ready Talent Management...</td>\n",
       "      <td>TGS-2023018975</td>\n",
       "      <td>KORN FERRY (SG) PTE. LTD.</td>\n",
       "      <td>197500776G</td>\n",
       "      <td>SSG-NON-WSQ</td>\n",
       "      <td>Our Future-Ready Talent Management Professiona...</td>\n",
       "      <td>The war for talent is heating up. Success for ...</td>\n",
       "      <td>Organisational Development</td>\n",
       "      <td>Change Management</td>\n",
       "      <td>KORN FERRY (SG) PTE. LTD.</td>\n",
       "      <td>...</td>\n",
       "      <td>2</td>\n",
       "      <td>The course focuses on acquiring basic skills i...</td>\n",
       "      <td>medium</td>\n",
       "      <td>sfw</td>\n",
       "      <td>NaN</td>\n",
       "      <td>Change Management-2</td>\n",
       "      <td>51f1c29f442600d3d73d3401b0e5dab22b4cda0505b923...</td>\n",
       "      <td>(SCTP) Ã¢â‚¬â€œ Future-Ready Talent Management...</td>\n",
       "      <td>(SCTP) Ã¢â‚¬â€œ Future-Ready Talent Management...</td>\n",
       "      <td>fc023f98c4ee8af07e3b72285988b1a77fbad93a58c924...</td>\n",
       "    </tr>\n",
       "    <tr>\n",
       "      <th>163</th>\n",
       "      <td>3D Printing of Advanced Polymer Products: Esse...</td>\n",
       "      <td>TGS-2019507914</td>\n",
       "      <td>NANYANG TECHNOLOGICAL UNIVERSITY</td>\n",
       "      <td>200604393R</td>\n",
       "      <td>SSG-NON-WSQ</td>\n",
       "      <td>&lt;p style=text-align: justify;&gt;3D printing crea...</td>\n",
       "      <td>&lt;p style=text-align: justify;&gt;This course intr...</td>\n",
       "      <td>Precision Manufacturing Process</td>\n",
       "      <td>Additive Manufacturing</td>\n",
       "      <td>NANYANG TECHNOLOGICAL UNIVERSITY</td>\n",
       "      <td>...</td>\n",
       "      <td>1</td>\n",
       "      <td>Course matches level 1 as it introduces basics...</td>\n",
       "      <td>high</td>\n",
       "      <td>sfw</td>\n",
       "      <td>Based on sfw, there is no level 1 PL for Addic...</td>\n",
       "      <td>Additive Manufacturing-1</td>\n",
       "      <td>e16e55a8e97340f9f43fc663cc5f05d3e5132983568d91...</td>\n",
       "      <td>3D Printing of Advanced Polymer Products: Esse...</td>\n",
       "      <td>3D Printing of Advanced Polymer Products: Esse...</td>\n",
       "      <td>132e39226df8d46757d110b7c43b0c37bf85c7db7b8bc1...</td>\n",
       "    </tr>\n",
       "  </tbody>\n",
       "</table>\n",
       "<p>2 rows × 22 columns</p>\n",
       "</div>"
      ],
      "text/plain": [
       "                                          Course Title  \\\n",
       "141  (SCTP) Ã¢â‚¬â€œ Future-Ready Talent Management...   \n",
       "163  3D Printing of Advanced Polymer Products: Esse...   \n",
       "\n",
       "    Course Reference Number                           TP Name      TP UEN  \\\n",
       "141          TGS-2023018975         KORN FERRY (SG) PTE. LTD.  197500776G   \n",
       "163          TGS-2019507914  NANYANG TECHNOLOGICAL UNIVERSITY  200604393R   \n",
       "\n",
       "    Programme Type                                  About This Course  \\\n",
       "141    SSG-NON-WSQ  Our Future-Ready Talent Management Professiona...   \n",
       "163    SSG-NON-WSQ  <p style=text-align: justify;>3D printing crea...   \n",
       "\n",
       "                                     What You'll Learn  \\\n",
       "141  The war for talent is heating up. Success for ...   \n",
       "163  <p style=text-align: justify;>This course intr...   \n",
       "\n",
       "                        TSC Category         TSC Title/Skill  \\\n",
       "141       Organisational Development       Change Management   \n",
       "163  Precision Manufacturing Process  Additive Manufacturing   \n",
       "\n",
       "                    Training Provider  ... proficiency_level  \\\n",
       "141         KORN FERRY (SG) PTE. LTD.  ...                 2   \n",
       "163  NANYANG TECHNOLOGICAL UNIVERSITY  ...                 1   \n",
       "\n",
       "                                                reason  confidence  \\\n",
       "141  The course focuses on acquiring basic skills i...      medium   \n",
       "163  Course matches level 1 as it introduces basics...        high   \n",
       "\n",
       "    method (sfw / rac)                                          Comments   \\\n",
       "141                sfw                                                NaN   \n",
       "163                sfw  Based on sfw, there is no level 1 PL for Addic...   \n",
       "\n",
       "                skill_pl_text  \\\n",
       "141       Change Management-2   \n",
       "163  Additive Manufacturing-1   \n",
       "\n",
       "                                           skill_pl_id  \\\n",
       "141  51f1c29f442600d3d73d3401b0e5dab22b4cda0505b923...   \n",
       "163  e16e55a8e97340f9f43fc663cc5f05d3e5132983568d91...   \n",
       "\n",
       "                                           course_text  \\\n",
       "141  (SCTP) Ã¢â‚¬â€œ Future-Ready Talent Management...   \n",
       "163  3D Printing of Advanced Polymer Products: Esse...   \n",
       "\n",
       "                                           unique_text  \\\n",
       "141  (SCTP) Ã¢â‚¬â€œ Future-Ready Talent Management...   \n",
       "163  3D Printing of Advanced Polymer Products: Esse...   \n",
       "\n",
       "                                             unique_id  \n",
       "141  fc023f98c4ee8af07e3b72285988b1a77fbad93a58c924...  \n",
       "163  132e39226df8d46757d110b7c43b0c37bf85c7db7b8bc1...  \n",
       "\n",
       "[2 rows x 22 columns]"
      ]
     },
     "execution_count": 18,
     "metadata": {},
     "output_type": "execute_result"
    }
   ],
   "source": [
    "affected_df.head(2)"
   ]
  },
  {
   "cell_type": "markdown",
   "id": "e9de8809-74cf-40da-8753-007ffefb0298",
   "metadata": {
    "jp-MarkdownHeadingCollapsed": true,
    "tags": []
   },
   "source": [
    "# Correction"
   ]
  },
  {
   "cell_type": "code",
   "execution_count": 20,
   "id": "0fa32734-f497-49ad-b754-18f88034aa6a",
   "metadata": {
    "tags": []
   },
   "outputs": [],
   "source": [
    "pe_kb_dic = {}\n",
    "for _, row in pe_kb.iterrows():\n",
    "    skill = row[\"TSC_CCS Title\"]\n",
    "    proficiency = row[\"Proficiency Level\"]\n",
    "    kna = row[\"Knowledge / Ability Items\"]\n",
    "    \n",
    "    if skill not in pe_kb_dic:\n",
    "        pe_kb_dic[skill] = []\n",
    "        \n",
    "    pe_kb_dic[skill].append({\n",
    "            \"proficiency\": proficiency,\n",
    "            \"knowledge_abilities\": kna\n",
    "        })"
   ]
  },
  {
   "cell_type": "code",
   "execution_count": 108,
   "id": "2c0f41d9-dfdf-4ace-b0eb-d9888cd02d47",
   "metadata": {
    "jupyter": {
     "source_hidden": true
    },
    "tags": []
   },
   "outputs": [],
   "source": [
    "def form_sys_msg(pe_kb_dic, crs_content, skill, skill_pl_reference_chart):\n",
    "    temp_kb_dic = pe_kb_dic[skill]\n",
    "    system_message = [\n",
    "        {\n",
    "            \"role\": \"system\",\n",
    "            \"content\": \"\"\"You are a helpful expert in the area of training courses and skills, you are helping me with associating the correct skills proficiency levels to training course contents, based on 2 sets of information:\n",
    "            1. Knowledge Base that defines the knowledge and abilities that are associated with each skill at the various proficiency levels.\n",
    "            2. Reference Document that defines the performance expectation for different proficiency levels.\n",
    "            For each pair of course content and skill taught, identify the most appropriate proficiency level for the skill that's being taught by the training course using the Knowledge Base first. \n",
    "            Only when you need additional information, refer to the Reference Document for decision. Do not ever tag a skill with a proficiency level that's not found in the Knowledge Base.\n",
    "            Give your response in JSON format like this: {{'proficiency': <>, 'reason': <>, 'confidence': <high | medium | low>}}\"\"\"\n",
    "        },\n",
    "        {\n",
    "            \"role\": \"user\",\n",
    "            \"content\": f\"\"\"For the training course {crs_content}, what is the most appropriate proficiency level to be tagged to the skill {skill}, based on the Knowledge Base {pe_kb_dic}, only if you need more information, refer to the Reference Document {skill_pl_reference_chart}.\n",
    "            Give your response in JSON format like this: {{'proficiency': <>, 'reason': <>, 'confidence': <high | medium | low>}}\"\"\"\n",
    "        }\n",
    "    ]\n",
    "    return system_message\n",
    "\n",
    "\n",
    "def get_pl_tagging(row, id_list, pe_kb_dic, skill_pl_reference_chart):\n",
    "    sys_msg = form_sys_msg(pe_kb_dic=pe_kb_dic, \n",
    "                           crs_content=row['course_text'], \n",
    "                           skill=row['TSC Title/Skill'], \n",
    "                           skill_pl_reference_chart=skill_pl_reference_chart)\n",
    "    if row['unique_id'] in id_list:\n",
    "        pass\n",
    "    else:\n",
    "        gpt_result = get_gpt_completion(sys_msg=sys_msg)\n",
    "    \n",
    "    return [row['unique_id'], gpt_result]\n",
    "\n",
    "\n",
    "def get_result(df, max_worker, id_list, result_list, pe_kb_dic, skill_pl_reference_chart, checkpoint_filename):\n",
    "    \n",
    "    def process_result(row, id_list, pe_kb_dic, skill_pl_reference_chart):\n",
    "        with open(checkpoint_filename, \"a\") as file:\n",
    "            gpt_output = get_pl_tagging(row, id_list, pe_kb_dic, skill_pl_reference_chart)\n",
    "            print(gpt_output[0])\n",
    "            id_list.append(gpt_output[0])\n",
    "            result_list.append(gpt_output[1])\n",
    "            \n",
    "            file.write(str(gpt_output[0]) + \"\\n\")\n",
    "        file.close()\n",
    "        \n",
    "    with concurrent.futures.ThreadPoolExecutor(max_workers=max_worker) as executor:\n",
    "        for _, row in df.iterrows():\n",
    "            executor.submit(process_result, row, id_list, pe_kb_dic, skill_pl_reference_chart)\n",
    "        \n",
    "        return id_list, result_list"
   ]
  },
  {
   "cell_type": "code",
   "execution_count": 109,
   "id": "da5421f4-2c49-42f7-9655-7d6ea2a08913",
   "metadata": {
    "tags": []
   },
   "outputs": [],
   "source": [
    "id_list = []\n",
    "result_list = []"
   ]
  },
  {
   "cell_type": "code",
   "execution_count": 110,
   "id": "137610e5-1208-4e6c-9477-36e161a94474",
   "metadata": {
    "tags": []
   },
   "outputs": [
    {
     "name": "stdout",
     "output_type": "stream",
     "text": [
      "1ab953623f84a6c0851c2fdda2a5b38751f6273cc4746721dd91a6d5e89c9d6a\n",
      "734ff84d7cb512e4541b69418b675d10616d60c5ffb9ed206341d8e64da3792d\n",
      "aa4aeb1de02650428adfa2898d72c675d455c2fe06c52c8e7a03720b2c5989a1\n",
      "0a5f30c52fbd1e5adac6cef2ff31a7a7bc8018b263ee6cf9b131c3587cf6f527\n",
      "e7af2141f436e3191b3afab24072b8145ec1a66f2f27c4e84de8411318894f48\n",
      "bd79a49edf49a7b683c4b6757886d75713a219cf94ab62b0188f7f292332ce72\n",
      "86290ba2c39783200377304b93b646217bfd38cf3d325437fa1e566d886f148f\n",
      "0e0c3c817e158885d45639aa26591ab759c28014ed3363c73dd4a27dab7ac3d5\n",
      "692b7cc06a605dc890be5e8c813fca433734ad0f62dfef19b4e6398239d6ab47\n",
      "ee7b14b3ef13798242ea1f6c3c6db42379ec7894ca1f33256fe0f40fd544b849\n",
      "672b1a484fa852bf9ab6f43ad00dc9beb207664f06a00d11e60d953ebf7b5b3f\n",
      "1924e28ad06d39c50218bba3feb900380e3b590ddfc8d0496216496324bff2a4\n",
      "bec3ae94526bc87b22965a488ac2185d768732a1df246f6d2aa873a137e11ad4\n",
      "132e39226df8d46757d110b7c43b0c37bf85c7db7b8bc1438b6535245ae56792\n",
      "2a4fc5de8bd20b9d550669b83fdd0e147eb3fbbfeb0befc0dbed40064b5600ef\n",
      "176f2879c3725c70b9149fb08b79674222ffe5254782545b91f1efbae8eed80b\n",
      "fc023f98c4ee8af07e3b72285988b1a77fbad93a58c92436698777cae31d85c2\n",
      "a727613d3041ec8d76db75f69077220f9c252e54e66eff4e61ab06b6ceaf0b17\n",
      "db7110b24e38e14a336c4320a1ac1f95b86d9e52c6be073261854ea469f0032f\n",
      "1355945843fb7b5de33a62cadbb2456ab18be3ba2a8419ebbd511da2fd8c1a5f\n",
      "0aded50c2e46ff657317dd8f2bda13c07a7d0f1dc8794ea79f7f437a18c91210\n",
      "19ae09da4a13d00c6781750ca72b90e092468eb1cf3129d168ffe5db2b6d74d3\n",
      "8a85e0903176c6ab034b07b9227808942b471916baca98b78b5ad3c2cae1d797\n",
      "2a57b54e631f23ab075afa4ca5eacf4cec8012526fa2de2d56460e835f7b2f37\n",
      "e7e7fd4eaff30bb92d5bd1e744056637486e4078f1fe827f7b2f034ba93abd92\n",
      "e4d941c86b8adb6f240d9b16a3aec349e4ace700e40706f075f560d64c988a8f\n",
      "7ce5b40d619532ca525b52f895cd0ffd1af94799534958c9c116140ef4e4718c\n",
      "3545364f8f320ed568a65dd1a0ffb837971f40f7aa119701fdd77c512de67eb8\n",
      "8f94b1d8fd941f91c490188a13ee7548548e73f4bd5012a433d47ac4b6763e51\n",
      "cece60abeeb2c0603829af1645d2df68709005884e88b63e210e115ac939edf6\n",
      "0b3a9aa6a9f2b68f97ff38e78e160a26862a8a7b4726cc22851c27ee5637c21d\n",
      "96011252b9db31fb0a8e7cfb196328db1a1f1e744f7076abbafc9ff62a34e56e\n",
      "9e4d9269e563be304f9c6471e0f26bd6623df8c6c5d3556699ad1c1a8983ee53\n",
      "30e903d178c7758deb886a611866ae9c9fc4faf74a146e20252f0b04d68e233d\n",
      "59506281f32aaccaf7f4c78cd8fa29a5fee54afe78b989454aeec328248ef4a2\n",
      "f1be6325731dcf951cdc8872ecdb133bf1005cbfc2f9570ab7c0e50cc4ec7a8b\n",
      "3e629b60a4650858ee6b790e5d0b61204e3b16ec19983f921383a855b810f982\n",
      "404765b8442bb79494a143481494376eda45bf31c78c0cdd95cf987e1b15a8a4\n",
      "a6bb1bfb7a0e84f81e7b7357d51ca99a39d1376e7c2b1a025b3d6ede77bbe1bf\n",
      "2cbf6f8031525c28fe0bfa3431a22755a8bb7ffcdf0d88ff4daf9ae24e7f178f\n",
      "f4fc8eaf92c2f71b8be1d220b4b646dd5d5e21d6f6cb87b3ebd1e89858d9dd14\n",
      "3ebc68b39bc3a9340cef87fe7d41bd85d509eddd195ca2b3bfa138e4b824c324\n",
      "6bf18b4f71cc8723b5aa30b046291031a3b13d66cae19910946eee1b97d19db5\n",
      "483975984954acea279446a1746ee8822d08c037d408126bef94f4874bdd8c7b\n",
      "d06181d886846fba9e50df3e09182801868ae107d2512cf44133016f0b8ee9df\n",
      "699d630e0647ee4b86a1c7154d88459b5ec65359e5db2becbeab07c384194cf4\n",
      "8f2119b3a2ff460befa042bd0a2d262cc9a9b524f7755de3142c611347a1f418\n",
      "d9243ffe304b195e0abd7398b90ab76581df8f17117b57655fda71e11993756a\n",
      "3a72ec7bced7051701cbdb506b32cf64d3976eddcff1e853cdded83b33f85292\n"
     ]
    }
   ],
   "source": [
    "id_list, result_list = get_result(\n",
    "    df=affected_df,\n",
    "    max_worker=20,\n",
    "    id_list=id_list,\n",
    "    result_list=result_list,\n",
    "    pe_kb_dic=pe_kb_dic,\n",
    "    skill_pl_reference_chart = skill_proficiency_level_details,\n",
    "    checkpoint_filename=checkpoint_file_path\n",
    ")"
   ]
  },
  {
   "cell_type": "code",
   "execution_count": 111,
   "id": "3b5fde78-1421-40a0-9e7a-754b55c4f0ea",
   "metadata": {
    "tags": []
   },
   "outputs": [
    {
     "data": {
      "text/plain": [
       "49"
      ]
     },
     "execution_count": 111,
     "metadata": {},
     "output_type": "execute_result"
    }
   ],
   "source": [
    "len(id_list)"
   ]
  },
  {
   "cell_type": "code",
   "execution_count": 112,
   "id": "a9b51825-0403-45ae-b2a2-9a1e35c9af4c",
   "metadata": {
    "tags": []
   },
   "outputs": [],
   "source": [
    "pickle_file_path = \"./gpt_correction_output_02072024.pkl\""
   ]
  },
  {
   "cell_type": "code",
   "execution_count": 113,
   "id": "9d2a7edd-0b1f-4cad-9f83-719ed03cd310",
   "metadata": {
    "tags": []
   },
   "outputs": [],
   "source": [
    "with open(pickle_file_path, \"wb\") as file:\n",
    "    pkl.dump((id_list, result_list), file)"
   ]
  },
  {
   "cell_type": "markdown",
   "id": "75c6d6c4-3264-47bb-8825-201707ca1bf4",
   "metadata": {
    "jp-MarkdownHeadingCollapsed": true,
    "tags": []
   },
   "source": [
    "# Process & Check Output"
   ]
  },
  {
   "cell_type": "code",
   "execution_count": 114,
   "id": "9f58b2af-6e58-4417-bcab-19528b9002e3",
   "metadata": {
    "tags": []
   },
   "outputs": [],
   "source": [
    "result_df = pd.DataFrame(data={\"unique_id\": id_list, \"proficiency_level\": [x['proficiency'] for x in result_list], \"reason\": [x['reason'] for x in result_list], \"confidence\": [x['confidence'] for x in result_list]})"
   ]
  },
  {
   "cell_type": "code",
   "execution_count": 115,
   "id": "047ae790-090d-4cc9-8988-4ce67675ce49",
   "metadata": {
    "tags": []
   },
   "outputs": [],
   "source": [
    "result_df.rename(columns={\"proficiency_level\": \"proficiency_level_rac_chart\", \"reason\": \"reason_rac_chart\", \"confidence\": \"confidence_rac_chart\"}, inplace=True)"
   ]
  },
  {
   "cell_type": "code",
   "execution_count": 116,
   "id": "506794d7-3ce2-437c-9fbc-9c33950eb957",
   "metadata": {
    "tags": []
   },
   "outputs": [],
   "source": [
    "final_df = data_df.merge(result_df, how='left', on='unique_id')"
   ]
  },
  {
   "cell_type": "code",
   "execution_count": 117,
   "id": "cf130144-9cfa-4be9-b8a8-cdd3a67469d3",
   "metadata": {
    "tags": []
   },
   "outputs": [
    {
     "data": {
      "text/plain": [
       "(49, 4)"
      ]
     },
     "execution_count": 117,
     "metadata": {},
     "output_type": "execute_result"
    }
   ],
   "source": [
    "result_df.shape"
   ]
  },
  {
   "cell_type": "code",
   "execution_count": 119,
   "id": "97d2cdc4-7be2-4df0-887c-f427dd3718ff",
   "metadata": {
    "tags": []
   },
   "outputs": [
    {
     "data": {
      "text/html": [
       "<div>\n",
       "<style scoped>\n",
       "    .dataframe tbody tr th:only-of-type {\n",
       "        vertical-align: middle;\n",
       "    }\n",
       "\n",
       "    .dataframe tbody tr th {\n",
       "        vertical-align: top;\n",
       "    }\n",
       "\n",
       "    .dataframe thead th {\n",
       "        text-align: right;\n",
       "    }\n",
       "</style>\n",
       "<table border=\"1\" class=\"dataframe\">\n",
       "  <thead>\n",
       "    <tr style=\"text-align: right;\">\n",
       "      <th></th>\n",
       "      <th>Course Title</th>\n",
       "      <th>Course Reference Number</th>\n",
       "      <th>TP Name</th>\n",
       "      <th>TP UEN</th>\n",
       "      <th>Programme Type</th>\n",
       "      <th>About This Course</th>\n",
       "      <th>What You'll Learn</th>\n",
       "      <th>TSC Category</th>\n",
       "      <th>TSC Title/Skill</th>\n",
       "      <th>Training Provider</th>\n",
       "      <th>...</th>\n",
       "      <th>method (sfw / rac)</th>\n",
       "      <th>Comments</th>\n",
       "      <th>skill_pl_text</th>\n",
       "      <th>skill_pl_id</th>\n",
       "      <th>course_text</th>\n",
       "      <th>unique_text</th>\n",
       "      <th>unique_id</th>\n",
       "      <th>proficiency_level_rac_chart</th>\n",
       "      <th>reason_rac_chart</th>\n",
       "      <th>confidence_rac_chart</th>\n",
       "    </tr>\n",
       "  </thead>\n",
       "  <tbody>\n",
       "    <tr>\n",
       "      <th>0</th>\n",
       "      <td>(eCornell) Rapid Ideation</td>\n",
       "      <td>TGS-2023038343</td>\n",
       "      <td>GENASHTIM</td>\n",
       "      <td>200816403N</td>\n",
       "      <td>SSG-NON-WSQ</td>\n",
       "      <td>In this course, you will learn best practices ...</td>\n",
       "      <td>Generate ideas for new products and services\\n...</td>\n",
       "      <td>Business and Organisational Management</td>\n",
       "      <td>Business Innovation</td>\n",
       "      <td>GENASHTIM</td>\n",
       "      <td>...</td>\n",
       "      <td>sfw</td>\n",
       "      <td>NaN</td>\n",
       "      <td>Business Innovation-4</td>\n",
       "      <td>016b7b236ce037862ef3ed2db7dafcc981b9d67faa5257...</td>\n",
       "      <td>(eCornell) Rapid Ideation |: In this course, ...</td>\n",
       "      <td>(eCornell) Rapid Ideation |: In this course, ...</td>\n",
       "      <td>be689bc4430a108510eb3465e692d655f6429e9aa80336...</td>\n",
       "      <td>NaN</td>\n",
       "      <td>NaN</td>\n",
       "      <td>NaN</td>\n",
       "    </tr>\n",
       "    <tr>\n",
       "      <th>1</th>\n",
       "      <td>(eCornell) Rapid Ideation</td>\n",
       "      <td>TGS-2023038343</td>\n",
       "      <td>GENASHTIM</td>\n",
       "      <td>200816403N</td>\n",
       "      <td>SSG-NON-WSQ</td>\n",
       "      <td>In this course, you will learn best practices ...</td>\n",
       "      <td>Generate ideas for new products and services\\n...</td>\n",
       "      <td>Productivity and Innovation</td>\n",
       "      <td>Innovation Management</td>\n",
       "      <td>GENASHTIM</td>\n",
       "      <td>...</td>\n",
       "      <td>sfw</td>\n",
       "      <td>NaN</td>\n",
       "      <td>Innovation Management-4</td>\n",
       "      <td>1e9c2e630a224cf763e4dcf12222df558d7dc7f5e26cd6...</td>\n",
       "      <td>(eCornell) Rapid Ideation |: In this course, ...</td>\n",
       "      <td>(eCornell) Rapid Ideation |: In this course, ...</td>\n",
       "      <td>89bf960764887f83a72e7d45aded969f317a04fcea72f1...</td>\n",
       "      <td>NaN</td>\n",
       "      <td>NaN</td>\n",
       "      <td>NaN</td>\n",
       "    </tr>\n",
       "  </tbody>\n",
       "</table>\n",
       "<p>2 rows × 25 columns</p>\n",
       "</div>"
      ],
      "text/plain": [
       "                 Course Title Course Reference Number    TP Name      TP UEN  \\\n",
       "0   (eCornell) Rapid Ideation          TGS-2023038343  GENASHTIM  200816403N   \n",
       "1   (eCornell) Rapid Ideation          TGS-2023038343  GENASHTIM  200816403N   \n",
       "\n",
       "  Programme Type                                  About This Course  \\\n",
       "0    SSG-NON-WSQ  In this course, you will learn best practices ...   \n",
       "1    SSG-NON-WSQ  In this course, you will learn best practices ...   \n",
       "\n",
       "                                   What You'll Learn  \\\n",
       "0  Generate ideas for new products and services\\n...   \n",
       "1  Generate ideas for new products and services\\n...   \n",
       "\n",
       "                             TSC Category        TSC Title/Skill  \\\n",
       "0  Business and Organisational Management    Business Innovation   \n",
       "1             Productivity and Innovation  Innovation Management   \n",
       "\n",
       "  Training Provider  ... method (sfw / rac) Comments   \\\n",
       "0         GENASHTIM  ...                sfw       NaN   \n",
       "1         GENASHTIM  ...                sfw       NaN   \n",
       "\n",
       "             skill_pl_text                                        skill_pl_id  \\\n",
       "0    Business Innovation-4  016b7b236ce037862ef3ed2db7dafcc981b9d67faa5257...   \n",
       "1  Innovation Management-4  1e9c2e630a224cf763e4dcf12222df558d7dc7f5e26cd6...   \n",
       "\n",
       "                                         course_text  \\\n",
       "0   (eCornell) Rapid Ideation |: In this course, ...   \n",
       "1   (eCornell) Rapid Ideation |: In this course, ...   \n",
       "\n",
       "                                         unique_text  \\\n",
       "0   (eCornell) Rapid Ideation |: In this course, ...   \n",
       "1   (eCornell) Rapid Ideation |: In this course, ...   \n",
       "\n",
       "                                           unique_id  \\\n",
       "0  be689bc4430a108510eb3465e692d655f6429e9aa80336...   \n",
       "1  89bf960764887f83a72e7d45aded969f317a04fcea72f1...   \n",
       "\n",
       "  proficiency_level_rac_chart reason_rac_chart confidence_rac_chart  \n",
       "0                         NaN              NaN                  NaN  \n",
       "1                         NaN              NaN                  NaN  \n",
       "\n",
       "[2 rows x 25 columns]"
      ]
     },
     "execution_count": 119,
     "metadata": {},
     "output_type": "execute_result"
    }
   ],
   "source": [
    "final_df.head(2)"
   ]
  },
  {
   "cell_type": "code",
   "execution_count": 120,
   "id": "fcbe877b-c78f-4cb2-8d07-d3822096f0ed",
   "metadata": {
    "collapsed": true,
    "jupyter": {
     "outputs_hidden": true
    },
    "tags": []
   },
   "outputs": [
    {
     "name": "stderr",
     "output_type": "stream",
     "text": [
      "/tmp/ipykernel_1374/1721644357.py:2: SettingWithCopyWarning: \n",
      "A value is trying to be set on a copy of a slice from a DataFrame.\n",
      "Try using .loc[row_indexer,col_indexer] = value instead\n",
      "\n",
      "See the caveats in the documentation: https://pandas.pydata.org/pandas-docs/stable/user_guide/indexing.html#returning-a-view-versus-a-copy\n",
      "  sub_final_df[\"skill_pl_text_corrected\"] = sub_final_df['TSC Title/Skill'] + \"-\" + [str(int(x)) for x in sub_final_df[\"proficiency_level_rac_chart\"]]\n",
      "/tmp/ipykernel_1374/1721644357.py:3: SettingWithCopyWarning: \n",
      "A value is trying to be set on a copy of a slice from a DataFrame.\n",
      "Try using .loc[row_indexer,col_indexer] = value instead\n",
      "\n",
      "See the caveats in the documentation: https://pandas.pydata.org/pandas-docs/stable/user_guide/indexing.html#returning-a-view-versus-a-copy\n",
      "  sub_final_df[\"skill_pl_id_corrected\"] = [generate_hash(x) for x in sub_final_df[\"skill_pl_text_corrected\"]]\n"
     ]
    }
   ],
   "source": [
    "sub_final_df = final_df[~final_df.proficiency_level_rac_chart.isnull()]\n",
    "sub_final_df[\"skill_pl_text_corrected\"] = sub_final_df['TSC Title/Skill'] + \"-\" + [str(int(x)) for x in sub_final_df[\"proficiency_level_rac_chart\"]]\n",
    "sub_final_df[\"skill_pl_id_corrected\"] = [generate_hash(x) for x in sub_final_df[\"skill_pl_text_corrected\"]]"
   ]
  },
  {
   "cell_type": "code",
   "execution_count": 121,
   "id": "1129385a-f7e6-4263-9ad0-6f75bdee49e2",
   "metadata": {
    "tags": []
   },
   "outputs": [],
   "source": [
    "corrected_skillpl_id = sub_final_df.skill_pl_id_corrected.unique()"
   ]
  },
  {
   "cell_type": "code",
   "execution_count": 134,
   "id": "3d3160be-7e1f-4059-b06d-66a13d6aa19a",
   "metadata": {
    "tags": []
   },
   "outputs": [
    {
     "name": "stdout",
     "output_type": "stream",
     "text": [
      "File saved.\n"
     ]
    }
   ],
   "source": [
    "if len([x for x in corrected_skillpl_id if x not in reference_skillpl_id]) == 0:\n",
    "    final_df.drop(columns=['course_text','unique_text','unique_id'], inplace=True)\n",
    "    final_df.to_csv(output_file_path, index=False)\n",
    "    print(\"File saved.\")\n",
    "else:\n",
    "    print(\"Still having hallucination issues.\")"
   ]
  },
  {
   "cell_type": "code",
   "execution_count": 135,
   "id": "c9d9ac47-ef9f-4bfc-b817-19e3a1fe2724",
   "metadata": {
    "tags": []
   },
   "outputs": [
    {
     "data": {
      "text/plain": [
       "(6950, 22)"
      ]
     },
     "execution_count": 135,
     "metadata": {},
     "output_type": "execute_result"
    }
   ],
   "source": [
    "final_df.shape"
   ]
  },
  {
   "cell_type": "code",
   "execution_count": null,
   "id": "bf3831bc-9e18-4620-872f-5130ad5afc1b",
   "metadata": {},
   "outputs": [],
   "source": []
  }
 ],
 "metadata": {
  "availableInstances": [
   {
    "_defaultOrder": 0,
    "_isFastLaunch": true,
    "category": "General purpose",
    "gpuNum": 0,
    "hideHardwareSpecs": false,
    "memoryGiB": 4,
    "name": "ml.t3.medium",
    "vcpuNum": 2
   },
   {
    "_defaultOrder": 1,
    "_isFastLaunch": false,
    "category": "General purpose",
    "gpuNum": 0,
    "hideHardwareSpecs": false,
    "memoryGiB": 8,
    "name": "ml.t3.large",
    "vcpuNum": 2
   },
   {
    "_defaultOrder": 2,
    "_isFastLaunch": false,
    "category": "General purpose",
    "gpuNum": 0,
    "hideHardwareSpecs": false,
    "memoryGiB": 16,
    "name": "ml.t3.xlarge",
    "vcpuNum": 4
   },
   {
    "_defaultOrder": 3,
    "_isFastLaunch": false,
    "category": "General purpose",
    "gpuNum": 0,
    "hideHardwareSpecs": false,
    "memoryGiB": 32,
    "name": "ml.t3.2xlarge",
    "vcpuNum": 8
   },
   {
    "_defaultOrder": 4,
    "_isFastLaunch": true,
    "category": "General purpose",
    "gpuNum": 0,
    "hideHardwareSpecs": false,
    "memoryGiB": 8,
    "name": "ml.m5.large",
    "vcpuNum": 2
   },
   {
    "_defaultOrder": 5,
    "_isFastLaunch": false,
    "category": "General purpose",
    "gpuNum": 0,
    "hideHardwareSpecs": false,
    "memoryGiB": 16,
    "name": "ml.m5.xlarge",
    "vcpuNum": 4
   },
   {
    "_defaultOrder": 6,
    "_isFastLaunch": false,
    "category": "General purpose",
    "gpuNum": 0,
    "hideHardwareSpecs": false,
    "memoryGiB": 32,
    "name": "ml.m5.2xlarge",
    "vcpuNum": 8
   },
   {
    "_defaultOrder": 7,
    "_isFastLaunch": false,
    "category": "General purpose",
    "gpuNum": 0,
    "hideHardwareSpecs": false,
    "memoryGiB": 64,
    "name": "ml.m5.4xlarge",
    "vcpuNum": 16
   },
   {
    "_defaultOrder": 8,
    "_isFastLaunch": false,
    "category": "General purpose",
    "gpuNum": 0,
    "hideHardwareSpecs": false,
    "memoryGiB": 128,
    "name": "ml.m5.8xlarge",
    "vcpuNum": 32
   },
   {
    "_defaultOrder": 9,
    "_isFastLaunch": false,
    "category": "General purpose",
    "gpuNum": 0,
    "hideHardwareSpecs": false,
    "memoryGiB": 192,
    "name": "ml.m5.12xlarge",
    "vcpuNum": 48
   },
   {
    "_defaultOrder": 10,
    "_isFastLaunch": false,
    "category": "General purpose",
    "gpuNum": 0,
    "hideHardwareSpecs": false,
    "memoryGiB": 256,
    "name": "ml.m5.16xlarge",
    "vcpuNum": 64
   },
   {
    "_defaultOrder": 11,
    "_isFastLaunch": false,
    "category": "General purpose",
    "gpuNum": 0,
    "hideHardwareSpecs": false,
    "memoryGiB": 384,
    "name": "ml.m5.24xlarge",
    "vcpuNum": 96
   },
   {
    "_defaultOrder": 12,
    "_isFastLaunch": false,
    "category": "General purpose",
    "gpuNum": 0,
    "hideHardwareSpecs": false,
    "memoryGiB": 8,
    "name": "ml.m5d.large",
    "vcpuNum": 2
   },
   {
    "_defaultOrder": 13,
    "_isFastLaunch": false,
    "category": "General purpose",
    "gpuNum": 0,
    "hideHardwareSpecs": false,
    "memoryGiB": 16,
    "name": "ml.m5d.xlarge",
    "vcpuNum": 4
   },
   {
    "_defaultOrder": 14,
    "_isFastLaunch": false,
    "category": "General purpose",
    "gpuNum": 0,
    "hideHardwareSpecs": false,
    "memoryGiB": 32,
    "name": "ml.m5d.2xlarge",
    "vcpuNum": 8
   },
   {
    "_defaultOrder": 15,
    "_isFastLaunch": false,
    "category": "General purpose",
    "gpuNum": 0,
    "hideHardwareSpecs": false,
    "memoryGiB": 64,
    "name": "ml.m5d.4xlarge",
    "vcpuNum": 16
   },
   {
    "_defaultOrder": 16,
    "_isFastLaunch": false,
    "category": "General purpose",
    "gpuNum": 0,
    "hideHardwareSpecs": false,
    "memoryGiB": 128,
    "name": "ml.m5d.8xlarge",
    "vcpuNum": 32
   },
   {
    "_defaultOrder": 17,
    "_isFastLaunch": false,
    "category": "General purpose",
    "gpuNum": 0,
    "hideHardwareSpecs": false,
    "memoryGiB": 192,
    "name": "ml.m5d.12xlarge",
    "vcpuNum": 48
   },
   {
    "_defaultOrder": 18,
    "_isFastLaunch": false,
    "category": "General purpose",
    "gpuNum": 0,
    "hideHardwareSpecs": false,
    "memoryGiB": 256,
    "name": "ml.m5d.16xlarge",
    "vcpuNum": 64
   },
   {
    "_defaultOrder": 19,
    "_isFastLaunch": false,
    "category": "General purpose",
    "gpuNum": 0,
    "hideHardwareSpecs": false,
    "memoryGiB": 384,
    "name": "ml.m5d.24xlarge",
    "vcpuNum": 96
   },
   {
    "_defaultOrder": 20,
    "_isFastLaunch": false,
    "category": "General purpose",
    "gpuNum": 0,
    "hideHardwareSpecs": true,
    "memoryGiB": 0,
    "name": "ml.geospatial.interactive",
    "supportedImageNames": [
     "sagemaker-geospatial-v1-0"
    ],
    "vcpuNum": 0
   },
   {
    "_defaultOrder": 21,
    "_isFastLaunch": true,
    "category": "Compute optimized",
    "gpuNum": 0,
    "hideHardwareSpecs": false,
    "memoryGiB": 4,
    "name": "ml.c5.large",
    "vcpuNum": 2
   },
   {
    "_defaultOrder": 22,
    "_isFastLaunch": false,
    "category": "Compute optimized",
    "gpuNum": 0,
    "hideHardwareSpecs": false,
    "memoryGiB": 8,
    "name": "ml.c5.xlarge",
    "vcpuNum": 4
   },
   {
    "_defaultOrder": 23,
    "_isFastLaunch": false,
    "category": "Compute optimized",
    "gpuNum": 0,
    "hideHardwareSpecs": false,
    "memoryGiB": 16,
    "name": "ml.c5.2xlarge",
    "vcpuNum": 8
   },
   {
    "_defaultOrder": 24,
    "_isFastLaunch": false,
    "category": "Compute optimized",
    "gpuNum": 0,
    "hideHardwareSpecs": false,
    "memoryGiB": 32,
    "name": "ml.c5.4xlarge",
    "vcpuNum": 16
   },
   {
    "_defaultOrder": 25,
    "_isFastLaunch": false,
    "category": "Compute optimized",
    "gpuNum": 0,
    "hideHardwareSpecs": false,
    "memoryGiB": 72,
    "name": "ml.c5.9xlarge",
    "vcpuNum": 36
   },
   {
    "_defaultOrder": 26,
    "_isFastLaunch": false,
    "category": "Compute optimized",
    "gpuNum": 0,
    "hideHardwareSpecs": false,
    "memoryGiB": 96,
    "name": "ml.c5.12xlarge",
    "vcpuNum": 48
   },
   {
    "_defaultOrder": 27,
    "_isFastLaunch": false,
    "category": "Compute optimized",
    "gpuNum": 0,
    "hideHardwareSpecs": false,
    "memoryGiB": 144,
    "name": "ml.c5.18xlarge",
    "vcpuNum": 72
   },
   {
    "_defaultOrder": 28,
    "_isFastLaunch": false,
    "category": "Compute optimized",
    "gpuNum": 0,
    "hideHardwareSpecs": false,
    "memoryGiB": 192,
    "name": "ml.c5.24xlarge",
    "vcpuNum": 96
   },
   {
    "_defaultOrder": 29,
    "_isFastLaunch": true,
    "category": "Accelerated computing",
    "gpuNum": 1,
    "hideHardwareSpecs": false,
    "memoryGiB": 16,
    "name": "ml.g4dn.xlarge",
    "vcpuNum": 4
   },
   {
    "_defaultOrder": 30,
    "_isFastLaunch": false,
    "category": "Accelerated computing",
    "gpuNum": 1,
    "hideHardwareSpecs": false,
    "memoryGiB": 32,
    "name": "ml.g4dn.2xlarge",
    "vcpuNum": 8
   },
   {
    "_defaultOrder": 31,
    "_isFastLaunch": false,
    "category": "Accelerated computing",
    "gpuNum": 1,
    "hideHardwareSpecs": false,
    "memoryGiB": 64,
    "name": "ml.g4dn.4xlarge",
    "vcpuNum": 16
   },
   {
    "_defaultOrder": 32,
    "_isFastLaunch": false,
    "category": "Accelerated computing",
    "gpuNum": 1,
    "hideHardwareSpecs": false,
    "memoryGiB": 128,
    "name": "ml.g4dn.8xlarge",
    "vcpuNum": 32
   },
   {
    "_defaultOrder": 33,
    "_isFastLaunch": false,
    "category": "Accelerated computing",
    "gpuNum": 4,
    "hideHardwareSpecs": false,
    "memoryGiB": 192,
    "name": "ml.g4dn.12xlarge",
    "vcpuNum": 48
   },
   {
    "_defaultOrder": 34,
    "_isFastLaunch": false,
    "category": "Accelerated computing",
    "gpuNum": 1,
    "hideHardwareSpecs": false,
    "memoryGiB": 256,
    "name": "ml.g4dn.16xlarge",
    "vcpuNum": 64
   },
   {
    "_defaultOrder": 35,
    "_isFastLaunch": false,
    "category": "Accelerated computing",
    "gpuNum": 1,
    "hideHardwareSpecs": false,
    "memoryGiB": 61,
    "name": "ml.p3.2xlarge",
    "vcpuNum": 8
   },
   {
    "_defaultOrder": 36,
    "_isFastLaunch": false,
    "category": "Accelerated computing",
    "gpuNum": 4,
    "hideHardwareSpecs": false,
    "memoryGiB": 244,
    "name": "ml.p3.8xlarge",
    "vcpuNum": 32
   },
   {
    "_defaultOrder": 37,
    "_isFastLaunch": false,
    "category": "Accelerated computing",
    "gpuNum": 8,
    "hideHardwareSpecs": false,
    "memoryGiB": 488,
    "name": "ml.p3.16xlarge",
    "vcpuNum": 64
   },
   {
    "_defaultOrder": 38,
    "_isFastLaunch": false,
    "category": "Accelerated computing",
    "gpuNum": 8,
    "hideHardwareSpecs": false,
    "memoryGiB": 768,
    "name": "ml.p3dn.24xlarge",
    "vcpuNum": 96
   },
   {
    "_defaultOrder": 39,
    "_isFastLaunch": false,
    "category": "Memory Optimized",
    "gpuNum": 0,
    "hideHardwareSpecs": false,
    "memoryGiB": 16,
    "name": "ml.r5.large",
    "vcpuNum": 2
   },
   {
    "_defaultOrder": 40,
    "_isFastLaunch": false,
    "category": "Memory Optimized",
    "gpuNum": 0,
    "hideHardwareSpecs": false,
    "memoryGiB": 32,
    "name": "ml.r5.xlarge",
    "vcpuNum": 4
   },
   {
    "_defaultOrder": 41,
    "_isFastLaunch": false,
    "category": "Memory Optimized",
    "gpuNum": 0,
    "hideHardwareSpecs": false,
    "memoryGiB": 64,
    "name": "ml.r5.2xlarge",
    "vcpuNum": 8
   },
   {
    "_defaultOrder": 42,
    "_isFastLaunch": false,
    "category": "Memory Optimized",
    "gpuNum": 0,
    "hideHardwareSpecs": false,
    "memoryGiB": 128,
    "name": "ml.r5.4xlarge",
    "vcpuNum": 16
   },
   {
    "_defaultOrder": 43,
    "_isFastLaunch": false,
    "category": "Memory Optimized",
    "gpuNum": 0,
    "hideHardwareSpecs": false,
    "memoryGiB": 256,
    "name": "ml.r5.8xlarge",
    "vcpuNum": 32
   },
   {
    "_defaultOrder": 44,
    "_isFastLaunch": false,
    "category": "Memory Optimized",
    "gpuNum": 0,
    "hideHardwareSpecs": false,
    "memoryGiB": 384,
    "name": "ml.r5.12xlarge",
    "vcpuNum": 48
   },
   {
    "_defaultOrder": 45,
    "_isFastLaunch": false,
    "category": "Memory Optimized",
    "gpuNum": 0,
    "hideHardwareSpecs": false,
    "memoryGiB": 512,
    "name": "ml.r5.16xlarge",
    "vcpuNum": 64
   },
   {
    "_defaultOrder": 46,
    "_isFastLaunch": false,
    "category": "Memory Optimized",
    "gpuNum": 0,
    "hideHardwareSpecs": false,
    "memoryGiB": 768,
    "name": "ml.r5.24xlarge",
    "vcpuNum": 96
   },
   {
    "_defaultOrder": 47,
    "_isFastLaunch": false,
    "category": "Accelerated computing",
    "gpuNum": 1,
    "hideHardwareSpecs": false,
    "memoryGiB": 16,
    "name": "ml.g5.xlarge",
    "vcpuNum": 4
   },
   {
    "_defaultOrder": 48,
    "_isFastLaunch": false,
    "category": "Accelerated computing",
    "gpuNum": 1,
    "hideHardwareSpecs": false,
    "memoryGiB": 32,
    "name": "ml.g5.2xlarge",
    "vcpuNum": 8
   },
   {
    "_defaultOrder": 49,
    "_isFastLaunch": false,
    "category": "Accelerated computing",
    "gpuNum": 1,
    "hideHardwareSpecs": false,
    "memoryGiB": 64,
    "name": "ml.g5.4xlarge",
    "vcpuNum": 16
   },
   {
    "_defaultOrder": 50,
    "_isFastLaunch": false,
    "category": "Accelerated computing",
    "gpuNum": 1,
    "hideHardwareSpecs": false,
    "memoryGiB": 128,
    "name": "ml.g5.8xlarge",
    "vcpuNum": 32
   },
   {
    "_defaultOrder": 51,
    "_isFastLaunch": false,
    "category": "Accelerated computing",
    "gpuNum": 1,
    "hideHardwareSpecs": false,
    "memoryGiB": 256,
    "name": "ml.g5.16xlarge",
    "vcpuNum": 64
   },
   {
    "_defaultOrder": 52,
    "_isFastLaunch": false,
    "category": "Accelerated computing",
    "gpuNum": 4,
    "hideHardwareSpecs": false,
    "memoryGiB": 192,
    "name": "ml.g5.12xlarge",
    "vcpuNum": 48
   },
   {
    "_defaultOrder": 53,
    "_isFastLaunch": false,
    "category": "Accelerated computing",
    "gpuNum": 4,
    "hideHardwareSpecs": false,
    "memoryGiB": 384,
    "name": "ml.g5.24xlarge",
    "vcpuNum": 96
   },
   {
    "_defaultOrder": 54,
    "_isFastLaunch": false,
    "category": "Accelerated computing",
    "gpuNum": 8,
    "hideHardwareSpecs": false,
    "memoryGiB": 768,
    "name": "ml.g5.48xlarge",
    "vcpuNum": 192
   },
   {
    "_defaultOrder": 55,
    "_isFastLaunch": false,
    "category": "Accelerated computing",
    "gpuNum": 8,
    "hideHardwareSpecs": false,
    "memoryGiB": 1152,
    "name": "ml.p4d.24xlarge",
    "vcpuNum": 96
   },
   {
    "_defaultOrder": 56,
    "_isFastLaunch": false,
    "category": "Accelerated computing",
    "gpuNum": 8,
    "hideHardwareSpecs": false,
    "memoryGiB": 1152,
    "name": "ml.p4de.24xlarge",
    "vcpuNum": 96
   },
   {
    "_defaultOrder": 57,
    "_isFastLaunch": false,
    "category": "Accelerated computing",
    "gpuNum": 0,
    "hideHardwareSpecs": false,
    "memoryGiB": 32,
    "name": "ml.trn1.2xlarge",
    "vcpuNum": 8
   },
   {
    "_defaultOrder": 58,
    "_isFastLaunch": false,
    "category": "Accelerated computing",
    "gpuNum": 0,
    "hideHardwareSpecs": false,
    "memoryGiB": 512,
    "name": "ml.trn1.32xlarge",
    "vcpuNum": 128
   },
   {
    "_defaultOrder": 59,
    "_isFastLaunch": false,
    "category": "Accelerated computing",
    "gpuNum": 0,
    "hideHardwareSpecs": false,
    "memoryGiB": 512,
    "name": "ml.trn1n.32xlarge",
    "vcpuNum": 128
   }
  ],
  "instance_type": "ml.t3.medium",
  "kernelspec": {
   "display_name": "Python 3 (Data Science 3.0)",
   "language": "python",
   "name": "python3__SAGEMAKER_INTERNAL__arn:aws:sagemaker:ap-southeast-1:492261229750:image/sagemaker-data-science-310-v1"
  },
  "language_info": {
   "codemirror_mode": {
    "name": "ipython",
    "version": 3
   },
   "file_extension": ".py",
   "mimetype": "text/x-python",
   "name": "python",
   "nbconvert_exporter": "python",
   "pygments_lexer": "ipython3",
   "version": "3.10.6"
  },
  "lcc_arn": "arn:aws:sagemaker:ap-southeast-1:819382625810:studio-lifecycle-config/default-kernalgateway-lifecycle-config"
 },
 "nbformat": 4,
 "nbformat_minor": 5
}
